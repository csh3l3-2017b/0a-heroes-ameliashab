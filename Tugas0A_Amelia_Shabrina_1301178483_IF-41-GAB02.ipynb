{
 "cells": [
  {
   "cell_type": "code",
   "execution_count": 2,
   "metadata": {
    "collapsed": true
   },
   "outputs": [],
   "source": [
    "#Nama\t: Amelia Shabrina\n",
    "#NIM\t: 1301178483\n",
    "#Kelas\t: IF-41-GAB02\n",
    "\n",
    "import csv\n",
    "\n",
    "a \t= []\n",
    "save\t= []\n",
    "\n",
    "save.insert(0, ['name', 'role'])\n",
    "\n",
    "with open('test.csv') as filecsv:\n",
    "\tline\t= csv.reader(filecsv)\n",
    "\tdataset\t= list(line)\n",
    "\tfor x in range(53):\n",
    "\t\tfor y in range (5):\n",
    "\t\t\tdataset[x][y] = dataset[x][y]\n",
    "\t\ta.append(dataset[x])\n",
    "\n",
    "for index in range(1, len(a)):\n",
    "\tif int(a[index][1]) >= 270:\n",
    "\t\tsave.append([a[index][0], 'MARKSMAN'])\n",
    "\telif int(a[index][2]) >= 121:\n",
    "\t\tsave.append([a[index][0], 'ASSASSIN'])\n",
    "\telif int(a[index][3]) >= 25:\n",
    "\t\tsave.append([a[index][0], 'TANK'])\n",
    "\telif int(a[index][4]) >= 2580:\n",
    "\t\tsave.append([a[index][0], 'FIGHTER'])\n",
    "\telif int(a[index][5]) >= 500:\n",
    "\t\tsave.append([a[index][0], 'MAGE'])\n",
    "\telse:\n",
    "\t\tsave.append([a[index][0], 'SUPPORT'])\n",
    "\n",
    "with open('prediction.csv', 'w', newline='') as buatcsv:\n",
    "\tbaris = csv.writer(buatcsv)\n",
    "\tfor x in range(len(save)):\n",
    "\t\tbaris.writerow(save[x])"
   ]
  },
  {
   "cell_type": "code",
   "execution_count": null,
   "metadata": {
    "collapsed": true
   },
   "outputs": [],
   "source": []
  }
 ],
 "metadata": {
  "kernelspec": {
   "display_name": "Python 3",
   "language": "python",
   "name": "python3"
  },
  "language_info": {
   "codemirror_mode": {
    "name": "ipython",
    "version": 3
   },
   "file_extension": ".py",
   "mimetype": "text/x-python",
   "name": "python",
   "nbconvert_exporter": "python",
   "pygments_lexer": "ipython3",
   "version": "3.6.3"
  }
 },
 "nbformat": 4,
 "nbformat_minor": 2
}
